{
  "cells": [
    {
      "cell_type": "markdown",
      "metadata": {},
      "source": [
        "# SAE Sparse Activations vs Alanine Position Correlation Analysis\n",
        "\n",
        "This notebook investigates whether the sparse monosemantic features learned by our SAEs correlate with known biological features. We do this here by analyzing correlations between activations of the hidden activations from a pre-trained SAE model and alanine (an amino acid) positions in nucleotide sequences. \n",
        "\n",
        "## Overview\n",
        "- Load pre-trained SAE pipeline\n",
        "- Process RefSeq GenBank data\n",
        "- Extract alanine positions (EGCU, EGCC, EGCA, EGCG patterns)\n",
        "- Generate sparse activations\n",
        "- Calculate Pearson correlations\n",
        "- Perform statistical analysis\n",
        "- Create visualizations"
      ]
    },
    {
      "cell_type": "markdown",
      "metadata": {},
      "source": [
        "## Setup and Imports"
      ]
    },
    {
      "cell_type": "code",
      "execution_count": 1,
      "metadata": {},
      "outputs": [
        {
          "name": "stderr",
          "output_type": "stream",
          "text": [
            "INFO:datasets:PyTorch version 2.6.0 available.\n"
          ]
        },
        {
          "name": "stdout",
          "output_type": "stream",
          "text": [
            "✅ All imports successful\n"
          ]
        }
      ],
      "source": [
        "import sys\n",
        "from pathlib import Path\n",
        "import json\n",
        "import time\n",
        "from typing import Dict, List, Tuple, Optional, Any\n",
        "import warnings\n",
        "warnings.filterwarnings('ignore')\n",
        "\n",
        "import numpy as np\n",
        "import pandas as pd\n",
        "import matplotlib.pyplot as plt\n",
        "import seaborn as sns\n",
        "from scipy.stats import pearsonr\n",
        "from statsmodels.stats.multitest import multipletests\n",
        "from tqdm import tqdm\n",
        "import torch\n",
        "import multiprocessing\n",
        "\n",
        "# Try to import joblib for parallel processing\n",
        "try:\n",
        "    from joblib import Parallel, delayed\n",
        "    JOBLIB_AVAILABLE = True\n",
        "except ImportError:\n",
        "    JOBLIB_AVAILABLE = False\n",
        "    print(\"⚠️  Joblib not available. Install with: pip install joblib\")\n",
        "\n",
        "# Add the src directory to the path\n",
        "script_dir = Path.cwd()\n",
        "src_path = script_dir.parent / \"src\"\n",
        "sys.path.append(str(src_path))\n",
        "\n",
        "from sae.pipeline import SAETrainingPipeline\n",
        "from sae.preprocessing.refseq_preprocessor import RefSeqPreprocessor\n",
        "from sae.metrics.correlation_analysis import cuda_calculate_correlation_matrix\n",
        "\n",
        "print(\"✅ All imports successful\")"
      ]
    },
    {
      "cell_type": "markdown",
      "metadata": {},
      "source": [
        "## Configuration"
      ]
    },
    {
      "cell_type": "code",
      "execution_count": 4,
      "metadata": {},
      "outputs": [
        {
          "name": "stdout",
          "output_type": "stream",
          "text": [
            "🔬 Correlation Analysis Configuration\n",
            "   Model path: ../outputs/ablation_study_reconstruction/regular_sae_latent_1000\n",
            "   RefSeq file: ../../data/vertebrate_mammalian.1.rna.gbff\n",
            "   Max samples: 50\n",
            "   Max length: 1024\n",
            "   Batch size: 1\n",
            "   Output directory: ../outputs/correlation_analysis\n"
          ]
        }
      ],
      "source": [
        "# Configuration\n",
        "model_path = \"../outputs/ablation_study_reconstruction/regular_sae_latent_1000\"\n",
        "refseq_file = \"../../data/vertebrate_mammalian.1.rna.gbff\"\n",
        "output_dir = \"../outputs/correlation_analysis\"\n",
        "max_samples = 50  # Start with smaller sample for testing\n",
        "batch_size = 1\n",
        "max_length = 1024\n",
        "\n",
        "# Create output directory\n",
        "output_path = Path(output_dir)\n",
        "output_path.mkdir(parents=True, exist_ok=True)\n",
        "\n",
        "print(f\"🔬 Correlation Analysis Configuration\")\n",
        "print(f\"   Model path: {model_path}\")\n",
        "print(f\"   RefSeq file: {refseq_file}\")\n",
        "print(f\"   Max samples: {max_samples}\")\n",
        "print(f\"   Max length: {max_length}\")\n",
        "print(f\"   Batch size: {batch_size}\")\n",
        "print(f\"   Output directory: {output_dir}\")"
      ]
    },
    {
      "cell_type": "markdown",
      "metadata": {},
      "source": [
        "## Step 1: Load Pre-trained Pipeline"
      ]
    },
    {
      "cell_type": "code",
      "execution_count": 5,
      "metadata": {},
      "outputs": [
        {
          "name": "stderr",
          "output_type": "stream",
          "text": [
            "INFO:sae.pipeline.base_pipeline:✅ SAE model setup complete: 256 -> 1000\n",
            "INFO:sae.pipeline.embedding_generator:Loading HelicalmRNA model with wrapper: helicalmRNA\n",
            "INFO:sae.pipeline.embedding_generator:✅ Model and preprocessor loaded successfully\n",
            "INFO:sae.pipeline.base_pipeline:✅ Embedding generator setup complete\n",
            "INFO:sae.pipeline.embedding_generator:Loading HelicalmRNA model with wrapper: helicalmRNA\n",
            "INFO:sae.pipeline.embedding_generator:✅ Model and preprocessor loaded successfully\n"
          ]
        },
        {
          "name": "stdout",
          "output_type": "stream",
          "text": [
            "📥 Loading pre-trained SAE pipeline...\n",
            "   🔧 Updated embedding batch size to: 1\n",
            "   🔧 Updated embedding max_length to: 1024\n",
            "   ✅ Re-loaded embedding generator with new config\n",
            "   ✅ Pipeline loaded successfully\n",
            "   Model: SAE\n",
            "   Device: cuda\n",
            "   Batch size: 1\n",
            "   Max length: 1024\n"
          ]
        }
      ],
      "source": [
        "print(\"📥 Loading pre-trained SAE pipeline...\")\n",
        "\n",
        "# Load the pipeline from the saved directory\n",
        "pipeline = SAETrainingPipeline.load_from_checkpoint(model_path)\n",
        "\n",
        "# Update embedding generator configuration for memory efficiency\n",
        "if hasattr(pipeline, 'embedding_generator'):\n",
        "    # Update the embedding generator's configuration\n",
        "    pipeline.embedding_generator.batch_size = batch_size\n",
        "    pipeline.embedding_generator.max_length = max_length\n",
        "    print(f\"   🔧 Updated embedding batch size to: {batch_size}\")\n",
        "    print(f\"   🔧 Updated embedding max_length to: {max_length}\")\n",
        "    \n",
        "    # Re-load the model with new configuration\n",
        "    pipeline.embedding_generator._load_model()\n",
        "    print(f\"   ✅ Re-loaded embedding generator with new config\")\n",
        "\n",
        "print(f\"   ✅ Pipeline loaded successfully\")\n",
        "print(f\"   Model: {pipeline.sae_model.__class__.__name__}\")\n",
        "print(f\"   Device: {pipeline.device}\")\n",
        "print(f\"   Batch size: {batch_size}\")\n",
        "print(f\"   Max length: {max_length}\")"
      ]
    },
    {
      "cell_type": "markdown",
      "metadata": {},
      "source": [
        "## Step 2: Process RefSeq Data"
      ]
    },
    {
      "cell_type": "markdown",
      "metadata": {},
      "source": [
        "Same as before."
      ]
    },
    {
      "cell_type": "code",
      "execution_count": 6,
      "metadata": {},
      "outputs": [
        {
          "name": "stderr",
          "output_type": "stream",
          "text": [
            "INFO:sae.preprocessing.refseq_preprocessor:Processing RefSeq file: ../../data/vertebrate_mammalian.1.rna.gbff\n",
            "INFO:sae.preprocessing.refseq_preprocessor:Found approximately 100 records to process\n",
            "INFO:sae.preprocessing.refseq_preprocessor:Filtering sequences to max length: 1024\n"
          ]
        },
        {
          "name": "stdout",
          "output_type": "stream",
          "text": [
            "📊 Processing RefSeq data...\n"
          ]
        },
        {
          "name": "stderr",
          "output_type": "stream",
          "text": [
            "Processing records: 340record [00:00, 702.53record/s]                    \n",
            "INFO:sae.preprocessing.refseq_preprocessor:✅ Processing complete:\n",
            "INFO:sae.preprocessing.refseq_preprocessor:   Total processed: 341\n",
            "INFO:sae.preprocessing.refseq_preprocessor:   Valid sequences: 50\n",
            "INFO:sae.preprocessing.refseq_preprocessor:   Rejected (too long): 291\n",
            "INFO:sae.preprocessing.refseq_preprocessor:   Final valid records: 50\n"
          ]
        },
        {
          "name": "stdout",
          "output_type": "stream",
          "text": [
            "   ✅ Processed 50 records\n",
            "   📋 Feature Summary:\n",
            "   🧬 Alanine Statistics:\n",
            "     Total alanine positions: 575\n",
            "     Records with alanine: 50\n"
          ]
        }
      ],
      "source": [
        "print(\"📊 Processing RefSeq data...\")\n",
        "\n",
        "# Initialize preprocessor\n",
        "preprocessor = RefSeqPreprocessor()\n",
        "\n",
        "# Process RefSeq data\n",
        "processed_records = preprocessor.process_refseq_file(\n",
        "    file_path=refseq_file,\n",
        "    max_samples=max_samples,\n",
        "    use_cds=True,\n",
        "    max_length=max_length\n",
        ")\n",
        "\n",
        "print(f\"   ✅ Processed {len(processed_records)} records\")\n",
        "\n",
        "# Print feature summary\n",
        "feature_stats = preprocessor.get_processing_statistics(processed_records)\n",
        "print(\"   📋 Feature Summary:\")\n",
        "for feature_type, count in feature_stats.get('feature_counts', {}).items():\n",
        "    print(f\"     {feature_type}: {count}\")\n",
        "\n",
        "# Print alanine statistics\n",
        "total_alanine = sum(record['feature_statistics'].get('alanine_count', 0) for record in processed_records)\n",
        "records_with_alanine = sum(1 for record in processed_records if record['feature_statistics'].get('has_alanine', False))\n",
        "print(f\"   🧬 Alanine Statistics:\")\n",
        "print(f\"     Total alanine positions: {total_alanine}\")\n",
        "print(f\"     Records with alanine: {records_with_alanine}\")"
      ]
    },
    {
      "cell_type": "markdown",
      "metadata": {},
      "source": [
        "## Step 3: Generate Activations and Alanine Masks"
      ]
    },
    {
      "cell_type": "markdown",
      "metadata": {},
      "source": [
        "Our preprocessor looks all subsequences in our preprocessed data of \"EGCU\", EGCC\", \"EGCA\", or \"EGCG\", corresponding to the four codons which code for alanine. This in translated into a boolean mask in the processed records which we can use for our correlation computation."
      ]
    },
    {
      "cell_type": "code",
      "execution_count": 7,
      "metadata": {},
      "outputs": [
        {
          "name": "stdout",
          "output_type": "stream",
          "text": [
            "🧠 Generating sparse activations...\n",
            "   🧹 Cleared CUDA cache\n"
          ]
        },
        {
          "name": "stderr",
          "output_type": "stream",
          "text": [
            "WARNING:helical.models.helix_mrna.modeling_helix_mrna:The fast path is not available because on of `(selective_state_update, causal_conv1d_fn, causal_conv1d_update)` is None. Falling back to the naive implementation. To install follow https://github.com/state-spaces/mamba/#installation and https://github.com/Dao-AILab/causal-conv1d\n",
            "INFO:helical.models.helix_mrna.model:Helix-mRNA initialized successfully.\n",
            "INFO:helical.models.helix_mrna.model:'helical-ai/Helix-mRNA' model is in 'eval' mode, on device 'cuda'.\n",
            "INFO:sae.preprocessing.helical_wrapper:Helical model loaded successfully on cuda\n",
            "INFO:helical.models.helix_mrna.model:Processing data for Helix-mRNA.\n",
            "INFO:helical.models.helix_mrna.model:Successfully processed the data for Helix-mRNA.\n",
            "INFO:sae.preprocessing.helical_wrapper:Processed 50 sequences with Helical model\n",
            "INFO:helical.models.helix_mrna.model:Started getting embeddings:\n",
            "Getting embeddings: 100%|██████████| 50/50 [00:07<00:00,  6.43it/s]\n",
            "INFO:helical.models.helix_mrna.model:Finished getting embeddings.\n",
            "INFO:sae.preprocessing.helical_wrapper:Generated embeddings with shape: (50, 989, 256)\n"
          ]
        },
        {
          "name": "stdout",
          "output_type": "stream",
          "text": [
            "   🔍 Record 0: sequence length=160\n",
            "   🔍 Record 0: sequence[:50]=EGUCEUACEGGCECAUEACCEACCECUGEAACEGCGECCCEGAUECUCEG\n",
            "   🔍 Record 0: alanine mask sum=4\n",
            "   🔍 Record 0: found 1 alanine patterns: [(32, 'EGCG')]\n",
            "   🔍 Record 0: mask alanine positions: [32 33 34 35]\n",
            "\n",
            "   🔍 Record 1: sequence length=160\n",
            "   🔍 Record 1: sequence[:50]=EGUCEUACEGGCECAUEACCEACCECUGEAACEGCGECCCEGAUECUCEG\n",
            "   🔍 Record 1: alanine mask sum=4\n",
            "   🔍 Record 1: found 1 alanine patterns: [(32, 'EGCG')]\n",
            "   🔍 Record 1: mask alanine positions: [32 33 34 35]\n",
            "\n",
            "   ✅ Generated activations: (50, 989, 1000)\n",
            "   ✅ Collected 50 alanine masks\n",
            "   ✅ Found 2300 total alanine positions\n",
            "   🔍 Alanine per sequence: min=4, max=140, mean=46.00\n",
            "   🔍 Sequences with alanine: 50/50\n"
          ]
        }
      ],
      "source": [
        "print(\"🧠 Generating sparse activations...\")\n",
        "\n",
        "# Clear GPU cache before generating embeddings\n",
        "if torch.cuda.is_available():\n",
        "    torch.cuda.empty_cache()\n",
        "    print(\"   🧹 Cleared CUDA cache\")\n",
        "\n",
        "# Extract sequences\n",
        "sequences = [record['final_sequence'] for record in processed_records]\n",
        "\n",
        "# Use pipeline to generate embeddings and activations\n",
        "embeddings = pipeline.embedding_generator.wrapper(sequences)\n",
        "\n",
        "# Convert to numpy if it's a tensor\n",
        "if isinstance(embeddings, torch.Tensor):\n",
        "    embeddings = embeddings.cpu().numpy()\n",
        "\n",
        "# Use forward method and extract latent activations (encoded)\n",
        "with torch.no_grad():\n",
        "    # Pass embeddings directly to SAE model (preserving sequence length)\n",
        "    reconstructed, activations = pipeline.sae_model.forward(torch.tensor(embeddings, device=pipeline.device))\n",
        "    activations = activations.cpu().numpy()\n",
        "\n",
        "# Extract alanine masks from preprocessor\n",
        "alanine_masks = []\n",
        "alanine_count = 0\n",
        "for i, record in enumerate(processed_records):\n",
        "    masks = record['feature_masks']\n",
        "    alanine_masks.append(masks['alanine'])\n",
        "    alanine_count += masks['alanine'].sum()\n",
        "    \n",
        "    # Debug: Check first few sequences\n",
        "    if i < 2:\n",
        "        sequence = record['final_sequence']\n",
        "        alanine_mask = masks['alanine']\n",
        "        print(f\"   🔍 Record {i}: sequence length={len(sequence)}\")\n",
        "        print(f\"   🔍 Record {i}: sequence[:50]={sequence[:50]}\")\n",
        "        print(f\"   🔍 Record {i}: alanine mask sum={alanine_mask.sum()}\")\n",
        "        # Find alanine patterns in sequence\n",
        "        alanine_patterns = []\n",
        "        for j in range(len(sequence) - 3):\n",
        "            if sequence[j:j+4] in [\"EGCU\", \"EGCC\", \"EGCA\", \"EGCG\"]:\n",
        "                alanine_patterns.append((j, sequence[j:j+4]))\n",
        "        print(f\"   🔍 Record {i}: found {len(alanine_patterns)} alanine patterns: {alanine_patterns[:5]}\")\n",
        "        print(f\"   🔍 Record {i}: mask alanine positions: {np.where(alanine_mask)[0][:10]}\")\n",
        "        print()\n",
        "\n",
        "print(f\"   ✅ Generated activations: {activations.shape}\")\n",
        "print(f\"   ✅ Collected {len(alanine_masks)} alanine masks\")\n",
        "print(f\"   ✅ Found {alanine_count} total alanine positions\")\n",
        "\n",
        "# Debug: Check alanine distribution\n",
        "alanine_per_sequence = [mask.sum() for mask in alanine_masks]\n",
        "print(f\"   🔍 Alanine per sequence: min={min(alanine_per_sequence)}, max={max(alanine_per_sequence)}, mean={np.mean(alanine_per_sequence):.2f}\")\n",
        "print(f\"   🔍 Sequences with alanine: {sum(1 for count in alanine_per_sequence if count > 0)}/{len(alanine_per_sequence)}\")"
      ]
    },
    {
      "cell_type": "markdown",
      "metadata": {},
      "source": [
        "## Step 4: Calculate Correlations"
      ]
    },
    {
      "cell_type": "markdown",
      "metadata": {},
      "source": [
        "We build a custom function for GPUs for fast computation of the correlation of all 1000 features with our alanine mask."
      ]
    },
    {
      "cell_type": "code",
      "execution_count": 8,
      "metadata": {},
      "outputs": [
        {
          "name": "stdout",
          "output_type": "stream",
          "text": [
            "📈 Calculating alanine position correlations...\n",
            "   🔄 Preprocessing alanine masks...\n",
            "   🔍 Activations shape: (50, 989, 1000)\n",
            "   🔍 Using sequence length: 989\n",
            "   🔍 Seq 0: mask shape=(160,), seq_len=160, alanine_count=4\n",
            "   🔍 Seq 0: alanine positions=[32 33 34 35]\n",
            "   🔍 Seq 1: mask shape=(160,), seq_len=160, alanine_count=4\n",
            "   🔍 Seq 1: alanine positions=[32 33 34 35]\n",
            "   🔍 Seq 2: mask shape=(160,), seq_len=160, alanine_count=4\n",
            "   🔍 Seq 2: alanine positions=[32 33 34 35]\n",
            "   🔍 Feature array shape: (50, 1, 989)\n",
            "   🔍 Total alanine positions in feature array: 2300.0\n",
            "   🔍 Non-zero entries: 2300\n"
          ]
        }
      ],
      "source": [
        "print(\"📈 Calculating alanine position correlations...\")\n",
        "\n",
        "# Handle both 2D and 3D activations\n",
        "if len(activations.shape) == 3:\n",
        "    # 3D activations: (n_sequences, seq_len, n_latents)\n",
        "    n_sequences, seq_len, n_latents = activations.shape\n",
        "    # Reshape to (n_sequences * seq_len, n_latents) for processing\n",
        "    activations_2d = activations.reshape(-1, n_latents)\n",
        "else:\n",
        "    # 2D activations: (n_sequences, n_latents)\n",
        "    n_sequences, n_latents = activations.shape\n",
        "    activations_2d = activations\n",
        "    seq_len = 1\n",
        "\n",
        "# Pre-process alanine masks into a single array for vectorized operations\n",
        "print(\"   🔄 Preprocessing alanine masks...\")\n",
        "\n",
        "# Use the actual sequence length from activations, not from masks\n",
        "if len(activations.shape) == 3:\n",
        "    # 3D activations: (n_sequences, seq_len, n_latents)\n",
        "    actual_seq_len = activations.shape[1]\n",
        "else:\n",
        "    # 2D activations: (n_sequences, n_latents) - no sequence dimension\n",
        "    actual_seq_len = 1\n",
        "\n",
        "print(f\"   🔍 Activations shape: {activations.shape}\")\n",
        "print(f\"   🔍 Using sequence length: {actual_seq_len}\")\n",
        "\n",
        "# Add feature dimension to make it compatible with CUDA function: (n_sequences, 1, actual_seq_len)\n",
        "feature_array = np.zeros((n_sequences, 1, actual_seq_len))\n",
        "\n",
        "for seq_idx, mask in enumerate(alanine_masks):\n",
        "    seq_len = min(mask.shape[0], actual_seq_len)  # Don't exceed actual sequence length\n",
        "    feature_array[seq_idx, 0, :seq_len] = mask[:seq_len].astype(float)\n",
        "    \n",
        "    # Debug: Check first few sequences\n",
        "    if seq_idx < 3:\n",
        "        print(f\"   🔍 Seq {seq_idx}: mask shape={mask.shape}, seq_len={seq_len}, alanine_count={mask.sum()}\")\n",
        "        print(f\"   🔍 Seq {seq_idx}: alanine positions={np.where(mask)[0][:10]}\")  # First 10 alanine positions\n",
        "\n",
        "print(f\"   🔍 Feature array shape: {feature_array.shape}\")\n",
        "print(f\"   🔍 Total alanine positions in feature array: {feature_array.sum()}\")\n",
        "print(f\"   🔍 Non-zero entries: {np.count_nonzero(feature_array)}\")"
      ]
    },
    {
      "cell_type": "code",
      "execution_count": 9,
      "metadata": {},
      "outputs": [
        {
          "name": "stdout",
          "output_type": "stream",
          "text": [
            "   🚀 Using CUDA tensor operations...\n",
            "   🔄 Using CUDA tensor operations on cuda\n",
            "   📊 Processing 1000 latents × 1 features = 1000 correlations\n",
            "   📊 Activations shape: (49450, 1000), Features shape: (50, 1, 989)\n",
            "   📊 Flattened features shape: torch.Size([49450, 1])\n",
            "   🔄 Using batched processing: 50 latents × 5 features per batch\n",
            "   🔄 Processing batch: latents 0-49, features 0-0\n",
            "   🔄 Processing batch: latents 50-99, features 0-0\n",
            "   🔄 Processing batch: latents 100-149, features 0-0\n",
            "   🔄 Processing batch: latents 150-199, features 0-0\n",
            "   🔄 Processing batch: latents 200-249, features 0-0\n",
            "   🔄 Processing batch: latents 250-299, features 0-0\n",
            "   🔄 Processing batch: latents 300-349, features 0-0\n",
            "   🔄 Processing batch: latents 350-399, features 0-0\n",
            "   🔄 Processing batch: latents 400-449, features 0-0\n",
            "   🔄 Processing batch: latents 450-499, features 0-0\n",
            "   🔄 Processing batch: latents 500-549, features 0-0\n",
            "   🔄 Processing batch: latents 550-599, features 0-0\n",
            "   🔄 Processing batch: latents 600-649, features 0-0\n",
            "   🔄 Processing batch: latents 650-699, features 0-0\n",
            "   🔄 Processing batch: latents 700-749, features 0-0\n",
            "   🔄 Processing batch: latents 750-799, features 0-0\n",
            "   🔄 Processing batch: latents 800-849, features 0-0\n",
            "   🔄 Processing batch: latents 850-899, features 0-0\n",
            "   🔄 Processing batch: latents 900-949, features 0-0\n",
            "   🔄 Processing batch: latents 950-999, features 0-0\n",
            "   ✅ CUDA calculation completed\n",
            "   ✅ Calculated correlations for 1000 latent-alanine pairs\n"
          ]
        }
      ],
      "source": [
        "# Try CUDA tensor operations first (fastest)\n",
        "correlations = {}\n",
        "p_values = {}\n",
        "\n",
        "try:\n",
        "    if torch.cuda.is_available():\n",
        "        print(\"   🚀 Using CUDA tensor operations...\")\n",
        "        pearson_corr, pearson_p = cuda_calculate_correlation_matrix(\n",
        "            activations_2d, feature_array\n",
        "        )\n",
        "        \n",
        "        # Convert results to dictionary format\n",
        "        for latent_idx in range(n_latents):\n",
        "            if pearson_corr[latent_idx, 0] != 0:  # Only include valid correlations\n",
        "                correlations[(latent_idx, 'alanine')] = {\n",
        "                    'pearson': float(pearson_corr[latent_idx, 0]),\n",
        "                    'pearson_p': float(pearson_p[latent_idx, 0])\n",
        "                }\n",
        "                p_values[(latent_idx, 'alanine')] = float(pearson_p[latent_idx, 0])\n",
        "        \n",
        "        print(f\"   ✅ CUDA calculation completed\")\n",
        "        \n",
        "    else:\n",
        "        raise Exception(\"CUDA not available\")\n",
        "        \n",
        "except Exception as e:\n",
        "    print(f\"   ⚠️  CUDA calculation failed: {e}\")\n",
        "    print(\"   🔄 Falling back to parallel processing...\")\n",
        "    \n",
        "    # Fall back to parallel processing method\n",
        "    print(\"   🔄 Using parallel processing fallback...\")\n",
        "    # Create all combinations of latent-alanine pairs for parallel processing\n",
        "    latent_feature_pairs = []\n",
        "    for latent_idx in range(n_latents):\n",
        "        latent_feature_pairs.append((latent_idx, 0, 'alanine'))\n",
        "    \n",
        "    print(f\"   🔄 Processing {len(latent_feature_pairs)} latent-alanine pairs...\")\n",
        "    \n",
        "    # For fallback processing, we need to extract the 2D alanine array\n",
        "    alanine_array_2d = feature_array[:, 0, :]  # Shape: (n_sequences, max_seq_len)\n",
        "    \n",
        "    def calculate_single_correlation(latent_idx, feature_idx, feature_type, activations, feature_array):\n",
        "        \"\"\"Calculate correlation for a single latent-alanine pair.\"\"\"\n",
        "        try:\n",
        "            # Get latent activations for this dimension\n",
        "            latent_activations = activations[:, latent_idx]  # Shape: (n_sequences,)\n",
        "            \n",
        "            # Get alanine values (feature_array is now 2D: n_sequences, seq_len)\n",
        "            feature_values = feature_array  # Shape: (n_sequences, max_seq_len)\n",
        "            \n",
        "            # Create data points: for each sequence, repeat the activation value for each token\n",
        "            activation_values = np.repeat(latent_activations, feature_values.shape[1])\n",
        "            feature_values_flat = feature_values.flatten()\n",
        "            \n",
        "            # For binary features, we need to include both 0s and 1s\n",
        "            valid_mask = np.ones_like(feature_values_flat, dtype=bool)\n",
        "            \n",
        "            activation_values = activation_values[valid_mask]\n",
        "            feature_values_flat = feature_values_flat[valid_mask]\n",
        "            \n",
        "            if latent_idx == 0:  # Debug only for first latent\n",
        "                print(f\"   🔍 Latent {latent_idx}: {valid_mask.sum()} valid data points, alanine values: {feature_values_flat.sum()}\")\n",
        "            \n",
        "            # Calculate correlations\n",
        "            corr, p_val = pearsonr(activation_values, feature_values_flat)\n",
        "            \n",
        "            corr_data = {\n",
        "                'pearson': corr,\n",
        "                'pearson_p': p_val\n",
        "            }\n",
        "            \n",
        "            return (latent_idx, feature_type, corr_data, p_val)\n",
        "            \n",
        "        except Exception as e:\n",
        "            print(f\"   ⚠️  Error calculating correlation for latent {latent_idx}, feature {feature_type}: {e}\")\n",
        "            return None\n",
        "    \n",
        "    # Use parallel processing for correlation calculations\n",
        "    if JOBLIB_AVAILABLE:\n",
        "        try:\n",
        "            n_jobs = min(multiprocessing.cpu_count(), len(latent_feature_pairs))\n",
        "            print(f\"   🔄 Using {n_jobs} parallel workers...\")\n",
        "            \n",
        "            results = Parallel(n_jobs=n_jobs, verbose=1)(\n",
        "                delayed(calculate_single_correlation)(\n",
        "                    latent_idx, feature_idx, feature_type, activations_2d, alanine_array_2d\n",
        "                )\n",
        "                for latent_idx, feature_idx, feature_type in latent_feature_pairs\n",
        "            )\n",
        "            \n",
        "        except Exception as e:\n",
        "            print(f\"   ⚠️  Parallel processing failed: {e}\")\n",
        "            print(\"   🔄 Using sequential processing...\")\n",
        "            results = []\n",
        "            for latent_idx, feature_idx, feature_type in tqdm(latent_feature_pairs, desc=\"Calculating correlations\"):\n",
        "                result = calculate_single_correlation(\n",
        "                    latent_idx, feature_idx, feature_type, activations_2d, alanine_array_2d\n",
        "                )\n",
        "                results.append(result)\n",
        "    else:\n",
        "        print(\"   ⚠️  joblib not available, using sequential processing...\")\n",
        "        results = []\n",
        "        for latent_idx, feature_idx, feature_type in tqdm(latent_feature_pairs, desc=\"Calculating correlations\"):\n",
        "            result = calculate_single_correlation(\n",
        "                latent_idx, feature_idx, feature_type, activations_2d, alanine_array_2d\n",
        "            )\n",
        "            results.append(result)\n",
        "    \n",
        "    # Process results\n",
        "    for result in results:\n",
        "        if result is not None:\n",
        "            latent_idx, feature_type, corr_data, p_val = result\n",
        "            correlations[(latent_idx, feature_type)] = corr_data\n",
        "            p_values[(latent_idx, feature_type)] = p_val\n",
        "\n",
        "print(f\"   ✅ Calculated correlations for {len(correlations)} latent-alanine pairs\")"
      ]
    },
    {
      "cell_type": "markdown",
      "metadata": {},
      "source": [
        "## Step 5: Statistical Analysis"
      ]
    },
    {
      "cell_type": "code",
      "execution_count": 10,
      "metadata": {},
      "outputs": [
        {
          "name": "stdout",
          "output_type": "stream",
          "text": [
            "📊 Performing statistical analysis...\n",
            "   ✅ Corrected 1000 p-values\n",
            "   ✅ Found 0 significant correlations\n"
          ]
        }
      ],
      "source": [
        "print(\"📊 Performing statistical analysis...\")\n",
        "\n",
        "pval_list = list(p_values.values())\n",
        "keys = list(p_values.keys())\n",
        "\n",
        "if len(pval_list) == 0:\n",
        "    print(\"   ⚠️  No p-values to analyze\")\n",
        "    statistical_results = {}\n",
        "else:\n",
        "    try:\n",
        "        _, corrected_pvals, _, _ = multipletests(pval_list, method='fdr_bh', alpha=0.05)\n",
        "        corrected_dict = dict(zip(keys, corrected_pvals))\n",
        "        \n",
        "        significant = {key: p_val for key, p_val in corrected_dict.items() if p_val < 0.05}\n",
        "        \n",
        "        print(f\"   ✅ Corrected {len(pval_list)} p-values\")\n",
        "        print(f\"   ✅ Found {len(significant)} significant correlations\")\n",
        "        \n",
        "        statistical_results = {\n",
        "            'corrected_p_values': corrected_dict,\n",
        "            'significant_features': significant,\n",
        "            'total_tests': len(pval_list)\n",
        "        }\n",
        "        \n",
        "    except Exception as e:\n",
        "        print(f\"   ❌ Error in statistical analysis: {e}\")\n",
        "        statistical_results = {}"
      ]
    },
    {
      "cell_type": "markdown",
      "metadata": {},
      "source": [
        "## Step 6: Create Visualizations"
      ]
    },
    {
      "cell_type": "markdown",
      "metadata": {},
      "source": [
        "Let's visualize some results of our analysis!"
      ]
    },
    {
      "cell_type": "code",
      "execution_count": 11,
      "metadata": {},
      "outputs": [
        {
          "name": "stdout",
          "output_type": "stream",
          "text": [
            "📊 Creating alanine position visualizations...\n",
            "   📈 Plot saved to: ../outputs/correlation_analysis/alanine_position_correlation_analysis.png\n"
          ]
        },
        {
          "data": {
            "image/png": "[encoded data removed]",
            "text/plain": [
              "<Figure size 1500x1200 with 4 Axes>"
            ]
          },
          "metadata": {},
          "output_type": "display_data"
        }
      ],
      "source": [
        "print(\"📊 Creating alanine position visualizations...\")\n",
        "\n",
        "plt.style.use('seaborn-v0_8')\n",
        "fig, axes = plt.subplots(2, 2, figsize=(15, 12))\n",
        "fig.suptitle('SAE Sparse Activations vs Alanine Positions', fontsize=16)\n",
        "\n",
        "# 1. Alanine correlation distribution\n",
        "ax1 = axes[0, 0]\n",
        "n_latents = activations.shape[1]\n",
        "\n",
        "correlations_list = []\n",
        "for i in range(n_latents):\n",
        "    key = (i, 'alanine')\n",
        "    if key in correlations:\n",
        "        correlations_list.append(correlations[key]['pearson'])\n",
        "    else:\n",
        "        correlations_list.append(0)\n",
        "\n",
        "ax1.hist(correlations_list, bins=30, alpha=0.7, color='skyblue')\n",
        "ax1.set_xlabel('Pearson Correlation')\n",
        "ax1.set_ylabel('Number of Latent Dimensions')\n",
        "ax1.set_title('Alanine Position Correlation Distribution')\n",
        "ax1.axvline(x=0, color='red', linestyle='--', alpha=0.7)\n",
        "\n",
        "# 2. Top alanine correlations\n",
        "ax2 = axes[0, 1]\n",
        "top_correlations = []\n",
        "for key, corr_data in correlations.items():\n",
        "    top_correlations.append({\n",
        "        'latent': key[0],\n",
        "        'correlation': abs(corr_data['pearson']),\n",
        "        'p_value': corr_data['pearson_p']\n",
        "    })\n",
        "\n",
        "if top_correlations:\n",
        "    top_correlations.sort(key=lambda x: x['correlation'], reverse=True)\n",
        "    top_10 = top_correlations[:10]\n",
        "    \n",
        "    latents = [f\"Latent {item['latent']}\" for item in top_10]\n",
        "    corrs = [item['correlation'] for item in top_10]\n",
        "    \n",
        "    ax2.barh(range(len(latents)), corrs, color='lightcoral')\n",
        "    ax2.set_yticks(range(len(latents)))\n",
        "    ax2.set_yticklabels(latents)\n",
        "    ax2.set_xlabel('Absolute Correlation')\n",
        "    ax2.set_title('Top 10 Alanine Position Correlations')\n",
        "\n",
        "# 3. Sparsity analysis\n",
        "ax3 = axes[1, 0]\n",
        "# Calculate sparsity per latent dimension (mean across sequences)\n",
        "if len(activations.shape) == 3:\n",
        "    # 3D activations: (n_sequences, seq_len, n_latents)\n",
        "    sparsity = (activations == 0).mean(axis=(0, 1))  # Mean across sequences and positions\n",
        "else:\n",
        "    # 2D activations: (n_sequences, n_latents)\n",
        "    sparsity = (activations == 0).mean(axis=0)  # Mean across sequences\n",
        "\n",
        "ax3.hist(sparsity, bins=30, alpha=0.7, color='lightgreen')\n",
        "ax3.set_xlabel('Sparsity (fraction of zeros)')\n",
        "ax3.set_ylabel('Number of Latent Dimensions')\n",
        "ax3.set_title('Sparsity Distribution')\n",
        "\n",
        "# 4. Alanine position distribution\n",
        "ax4 = axes[1, 1]\n",
        "alanine_counts = [mask.sum() for mask in alanine_masks]\n",
        "\n",
        "ax4.hist(alanine_counts, bins=20, alpha=0.7, color='gold')\n",
        "ax4.set_xlabel('Alanine Positions per Sequence')\n",
        "ax4.set_ylabel('Number of Sequences')\n",
        "ax4.set_title('Alanine Position Distribution')\n",
        "\n",
        "plt.tight_layout()\n",
        "\n",
        "plot_path = output_path / \"alanine_position_correlation_analysis.png\"\n",
        "plt.savefig(plot_path, dpi=300, bbox_inches='tight')\n",
        "print(f\"   📈 Plot saved to: {plot_path}\")\n",
        "\n",
        "plt.show()"
      ]
    },
    {
      "cell_type": "markdown",
      "metadata": {},
      "source": [
        "We see some interesting things here. In the top row, we see that almost all latent dimensions have almost zero correlation with our alanine mask. Even the most correlated latents are still only quite weakly correlated. Perhaps this is due in part to the fact that we are taking the embeddings from the output layer of the helical model here, rather than features from an earlier mayer, which might better reflect small-scale structure like short codon sequences. This deserves further investigation.\n",
        "\n",
        "In the bottom left figure, we see that we are dealing with a large number of dead latent in out SAE model. A dead latent is a latent variable that is never activated because the network has simply learned to ignore it. Here that looks to be about half of our total latents, meaning our model is very inefficient. Techniques have been developed to reactivate these dead latents and it would be interesting to implement them."
      ]
    },
    {
      "cell_type": "markdown",
      "metadata": {},
      "source": [
        "## Step 7: Save Results"
      ]
    },
    {
      "cell_type": "code",
      "execution_count": 12,
      "metadata": {},
      "outputs": [
        {
          "name": "stdout",
          "output_type": "stream",
          "text": [
            "💾 Saving results...\n",
            "   📄 Alanine position correlations saved to: ../outputs/correlation_analysis/alanine_position_correlations.json\n",
            "   📄 Statistical results saved to: ../outputs/correlation_analysis/alanine_position_statistical_results.json\n",
            "   📄 Summary CSV saved to: ../outputs/correlation_analysis/alanine_position_correlation_summary.csv\n"
          ]
        }
      ],
      "source": [
        "print(\"💾 Saving results...\")\n",
        "\n",
        "# Convert tuple keys to strings for JSON serialization\n",
        "correlations_json = {}\n",
        "for (latent_idx, feature_type), corr_data in correlations.items():\n",
        "    key = f\"{latent_idx}_{feature_type}\"\n",
        "    correlations_json[key] = corr_data\n",
        "\n",
        "# Save correlations\n",
        "correlations_path = output_path / \"alanine_position_correlations.json\"\n",
        "with open(correlations_path, 'w') as f:\n",
        "    json.dump(correlations_json, f, indent=2)\n",
        "\n",
        "# Save statistical results\n",
        "stats_path = output_path / \"alanine_position_statistical_results.json\"\n",
        "\n",
        "# Convert tuple keys in statistical results as well (including nested dictionaries)\n",
        "def convert_tuple_keys(obj):\n",
        "    if isinstance(obj, dict):\n",
        "        converted = {}\n",
        "        for key, value in obj.items():\n",
        "            if isinstance(key, tuple):\n",
        "                new_key = f\"{key[0]}_{key[1]}\"\n",
        "            else:\n",
        "                new_key = key\n",
        "            converted[new_key] = convert_tuple_keys(value)\n",
        "        return converted\n",
        "    elif isinstance(obj, list):\n",
        "        return [convert_tuple_keys(item) for item in obj]\n",
        "    else:\n",
        "        return obj\n",
        "\n",
        "stats_json = convert_tuple_keys(statistical_results)\n",
        "\n",
        "with open(stats_path, 'w') as f:\n",
        "    json.dump(stats_json, f, indent=2)\n",
        "\n",
        "# Save summary CSV\n",
        "summary_data = []\n",
        "for (latent_idx, feature_type), corr_data in correlations.items():\n",
        "    summary_data.append({\n",
        "        'latent_dimension': latent_idx,\n",
        "        'pearson_correlation': corr_data['pearson'],\n",
        "        'pearson_p_value': corr_data['pearson_p']\n",
        "    })\n",
        "\n",
        "summary_df = pd.DataFrame(summary_data)\n",
        "summary_path = output_path / \"alanine_position_correlation_summary.csv\"\n",
        "summary_df.to_csv(summary_path, index=False)\n",
        "\n",
        "print(f\"   📄 Alanine position correlations saved to: {correlations_path}\")\n",
        "print(f\"   📄 Statistical results saved to: {stats_path}\")\n",
        "print(f\"   📄 Summary CSV saved to: {summary_path}\")"
      ]
    },
    {
      "cell_type": "markdown",
      "metadata": {},
      "source": [
        "## Step 8: Print Summary"
      ]
    },
    {
      "cell_type": "code",
      "execution_count": 13,
      "metadata": {},
      "outputs": [
        {
          "name": "stdout",
          "output_type": "stream",
          "text": [
            "\n",
            "============================================================\n",
            "📋 CORRELATION ANALYSIS SUMMARY\n",
            "============================================================\n",
            "\n",
            "🔬 Experiment Details:\n",
            "   Model: ../outputs/ablation_study_reconstruction/regular_sae_latent_1000\n",
            "   Samples analyzed: 1000\n",
            "   Latent dimensions: 1000\n",
            "\n",
            "📊 Alanine Position Correlation Results:\n",
            "   Total correlations calculated: 1000\n",
            "   Significant correlations: 0\n",
            "   Total statistical tests: 1000\n",
            "\n",
            "🏆 Top 5 Alanine Position Correlations:\n",
            "   1. Latent 932: 0.0777 (p=0.0546)\n",
            "   2. Latent 544: 0.0745 (p=0.0568)\n",
            "   3. Latent 569: 0.0726 (p=0.0582)\n",
            "   4. Latent 401: 0.0716 (p=0.0589)\n",
            "   5. Latent 766: 0.0712 (p=0.0593)\n",
            "\n",
            "✅ Results saved to: ../outputs/correlation_analysis\n",
            "\n",
            "🎉 Experiment completed successfully!\n"
          ]
        }
      ],
      "source": [
        "print(\"\\n\" + \"=\" * 60)\n",
        "print(\"📋 CORRELATION ANALYSIS SUMMARY\")\n",
        "print(\"=\" * 60)\n",
        "\n",
        "print(f\"\\n🔬 Experiment Details:\")\n",
        "print(f\"   Model: {model_path}\")\n",
        "print(f\"   Samples analyzed: {len(correlations)}\")\n",
        "print(f\"   Latent dimensions: {pipeline.hidden_dim}\")\n",
        "\n",
        "print(f\"\\n📊 Alanine Position Correlation Results:\")\n",
        "print(f\"   Total correlations calculated: {len(correlations)}\")\n",
        "print(f\"   Significant correlations: {len(statistical_results.get('significant_features', {}))}\")\n",
        "print(f\"   Total statistical tests: {statistical_results.get('total_tests', 0)}\")\n",
        "\n",
        "# Top correlations\n",
        "if correlations:\n",
        "    top_correlations = []\n",
        "    for key, corr_data in correlations.items():\n",
        "        top_correlations.append({\n",
        "            'latent': key[0],\n",
        "            'correlation': corr_data['pearson'],\n",
        "            'p_value': corr_data['pearson_p']\n",
        "        })\n",
        "    \n",
        "    top_correlations.sort(key=lambda x: abs(x['correlation']), reverse=True)\n",
        "    \n",
        "    print(f\"\\n🏆 Top 5 Alanine Position Correlations:\")\n",
        "    for i, corr in enumerate(top_correlations[:5]):\n",
        "        print(f\"   {i+1}. Latent {corr['latent']}: {corr['correlation']:.4f} (p={corr['p_value']:.4f})\")\n",
        "\n",
        "print(f\"\\n✅ Results saved to: {output_dir}\")\n",
        "print(f\"\\n🎉 Experiment completed successfully!\")"
      ]
    },
    {
      "cell_type": "markdown",
      "metadata": {},
      "source": [
        "## Results Analysis\n",
        "\n",
        "The experiment has completed! Here's what we found:\n",
        "\n",
        "### Key Findings:\n",
        "- **Low correlations**: None of the latent dimensions correlate strongly with alanine positions\n",
        "- **Dead Latents**: Almost half of our latents appear to be dead\n",
        "\n",
        "### Next Steps:\n",
        "- Implement techniques to reduce proportion of dead latents\n",
        "- Experiment with increasing the number of hidden latents to see if that creates higher-resolution features that correlate with individual amino acids like alanine\n",
        "- Investigate whether using embeddings from earlier layers of the pre-trained Helix-mRNA model would correlate better with our features of interest"
      ]
    },
    {
      "cell_type": "markdown",
      "metadata": {},
      "source": []
    }
  ],
  "metadata": {
    "kernelspec": {
      "display_name": "helical",
      "language": "python",
      "name": "python3"
    },
    "language_info": {
      "codemirror_mode": {
        "name": "ipython",
        "version": 3
      },
      "file_extension": ".py",
      "mimetype": "text/x-python",
      "name": "python",
      "nbconvert_exporter": "python",
      "pygments_lexer": "ipython3",
      "version": "3.11.8"
    }
  },
  "nbformat": 4,
  "nbformat_minor": 4
}
